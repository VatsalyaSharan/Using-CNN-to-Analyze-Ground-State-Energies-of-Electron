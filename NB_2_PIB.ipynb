{
  "nbformat": 4,
  "nbformat_minor": 0,
  "metadata": {
    "colab": {
      "name": "Notebook2(PIB)_final_draft",
      "provenance": [],
      "collapsed_sections": []
    },
    "kernelspec": {
      "name": "python3",
      "display_name": "Python 3"
    }
  },
  "cells": [
    {
      "cell_type": "markdown",
      "metadata": {
        "id": "3201gdLIxNAg"
      },
      "source": [
        "# Predicting Ground State Energies of Electron in a Box/Particle in a Box\r\n",
        "\r\n",
        "*Important-Notebook 2 of 2\r\n",
        "\r\n",
        "**NAME-VATSALYA SHARAN**\r\n",
        "\r\n",
        "DEPT-PHY\r\n",
        "\r\n",
        "ROLL_NO-18307\r\n",
        "\r\n",
        "Importing all the required Libraries\r\n"
      ]
    },
    {
      "cell_type": "code",
      "metadata": {
        "id": "UVileeIixOgW"
      },
      "source": [
        "import numpy as np\r\n",
        "import math\r\n",
        "import scipy.sparse as sp\r\n",
        "import scipy.sparse.linalg as la\r\n",
        "import matplotlib.pyplot as plt\r\n",
        "import tensorflow as tf\r\n",
        "import matplotlib.pyplot as plt\r\n",
        "import numpy as np\r\n",
        "from keras.models import Sequential\r\n",
        "from keras.layers import Dense, MaxPooling2D, Conv2D, Flatten, Dropout\r\n",
        "from keras.utils import to_categorical\r\n",
        "from keras.layers import BatchNormalization\r\n"
      ],
      "execution_count": 25,
      "outputs": []
    },
    {
      "cell_type": "markdown",
      "metadata": {
        "id": "sJ0-qZl0xiNL"
      },
      "source": [
        "**Defining the function 'Solver_PIB' to solve and generate Particle in a Box Potential Energies**\r\n",
        "\r\n",
        "This gives output in the form of a list of images and energy labels"
      ]
    },
    {
      "cell_type": "code",
      "metadata": {
        "id": "uwRt_I9kxivH"
      },
      "source": [
        "def Solver_PIB(limit, L, number):\r\n",
        "    x = np.linspace(-limit, limit, L)\r\n",
        "    y = np.linspace(-limit, limit, L)\r\n",
        "    #grid spacing\r\n",
        "    dx = x[1]-x[0]\r\n",
        "    dy = y[1]-y[0]\r\n",
        "    mesh = np.meshgrid(x, y)\r\n",
        "    block = sp.diags([-1,4,-1], [-1,0,1],(L,L)) #main tri-diagonal\r\n",
        "    dia = sp.block_diag((block,)*L) #repeat it num times to create the main block\r\n",
        "    sup = sp.diags([-1],[L],(L**2,L**2)) # super-diagonal fringe\r\n",
        "    sub = sp.diags([-1],[-L],(L**2,L**2)) #sub-diagonal fringe\r\n",
        "    T = (dia + sup + sub) / (2*dx*dy)\\\r\n",
        "\r\n",
        "    def solve(potential):\r\n",
        "        V = sp.lil_matrix((L**2, L**2))\r\n",
        "        V.setdiag(potential.flatten())\r\n",
        "        H = T + V\r\n",
        "        E= la.eigs(H, k=3, which='SM', return_eigenvectors=False)\r\n",
        "        return E\r\n",
        "\r\n",
        "    def V_INFW(a, b, lx, ly, ca, cb):\r\n",
        "        V = np.zeros((L,L))\r\n",
        "        for i in range(L):\r\n",
        "            for j in range(L):\r\n",
        "                if (0.5*(2*ca-lx)<a[i] and a[i]<0.5*(2*ca+lx))and(0.5*(2*cb-ly)<b[j]):\r\n",
        "                  V[i][j]=0\r\n",
        "                else:\r\n",
        "                  V[i][j]=20\r\n",
        "        return V\r\n",
        "    image_list= []\r\n",
        "    energy_list=[]\r\n",
        "\r\n",
        "    np.random.seed(101)\r\n",
        "    Ly=[]\r\n",
        "    Lx=[]\r\n",
        "    cx=[]\r\n",
        "    cy=[]\r\n",
        "    E = np.random.rand(number) * 0.4\r\n",
        "    S = (np.random.rand(number) * 11) + 4\r\n",
        "    for i in range(number):\r\n",
        "        a = (2*E[i]/math.pi**2)-(1/S[i]**2)\r\n",
        "        if a>0:\r\n",
        "          Ly.append(1/math.sqrt(a))\r\n",
        "          Lx.append(S[i])\r\n",
        "          cx = (np.random.rand(len(Lx)) - 0.5) * 32\r\n",
        "          cy = (np.random.rand(len(Lx)) - 0.5) * 32\r\n",
        "\r\n",
        "    for k in range(len(Lx)):\r\n",
        "        V_image_1 = V_INFW(x,y,Lx[k],Ly[k],cx[k],cy[k])\r\n",
        "        E1 = solve(V_INFW(x,y,Lx[k],Ly[k],cx[k],cy[k]))\r\n",
        "        image_list.append(V_image_1)\r\n",
        "        energy_list.append(E1)\r\n",
        "    return image_list, energy_list"
      ],
      "execution_count": 26,
      "outputs": []
    },
    {
      "cell_type": "markdown",
      "metadata": {
        "id": "c2mddVG3xmkx"
      },
      "source": [
        "**Generating the Dataset For Particle in a Box Potentials**"
      ]
    },
    {
      "cell_type": "code",
      "metadata": {
        "id": "S2Ol0BlDxm3N"
      },
      "source": [
        "L2=64\r\n",
        "data2, labels2 = Solver_PIB(limit=20, L=L2, number=12000)"
      ],
      "execution_count": 27,
      "outputs": []
    },
    {
      "cell_type": "markdown",
      "metadata": {
        "id": "i9P4iuGD1alJ"
      },
      "source": [
        "**Dividing our data into testing and training sets**"
      ]
    },
    {
      "cell_type": "code",
      "metadata": {
        "colab": {
          "base_uri": "https://localhost:8080/"
        },
        "id": "JNN97woB1brE",
        "outputId": "ced3e5f0-e2c1-4b9b-c2a5-5615395c94df"
      },
      "source": [
        "p2 = int(0.8*np.shape(data2)[0])\r\n",
        "q2 = int(0.2*np.shape(data2)[0])+1\r\n",
        "train_data_2_1 = data2[:p2]\r\n",
        "test_data_2_1 = data2[p2:]\r\n",
        "train_labels_2_1 = labels2[:p2]\r\n",
        "test_labels_2_1 = labels2[p2:]\r\n",
        "np.shape(test_data_2_1)"
      ],
      "execution_count": 28,
      "outputs": [
        {
          "output_type": "execute_result",
          "data": {
            "text/plain": [
              "(1911, 64, 64)"
            ]
          },
          "metadata": {
            "tags": []
          },
          "execution_count": 28
        }
      ]
    },
    {
      "cell_type": "code",
      "metadata": {
        "id": "vgQvQTzf1c1h"
      },
      "source": [
        "train_data_2_2=np.array(train_data_2_1)\r\n",
        "test_data_2_2=np.array(test_data_2_1)\r\n",
        "train_labels_2_2=np.array(train_labels_2_1)\r\n",
        "test_labels_2_2=np.array(test_labels_2_1)"
      ],
      "execution_count": 29,
      "outputs": []
    },
    {
      "cell_type": "markdown",
      "metadata": {
        "id": "tWpWIh3N1g31"
      },
      "source": [
        "**Changing the Shape of our data to fit our model**"
      ]
    },
    {
      "cell_type": "code",
      "metadata": {
        "colab": {
          "base_uri": "https://localhost:8080/"
        },
        "id": "VgXmLsF01hl1",
        "outputId": "9113316e-f82c-4168-e31d-eaba0fa05bc9"
      },
      "source": [
        "conv_training_data_2 = train_data_2_2.reshape(p2, L2,L2 , 1)\r\n",
        "conv_test_data_2 = test_data_2_2.reshape(q2, L2, L2, 1)\r\n",
        "np.shape(conv_training_data_2)"
      ],
      "execution_count": 30,
      "outputs": [
        {
          "output_type": "execute_result",
          "data": {
            "text/plain": [
              "(7642, 64, 64, 1)"
            ]
          },
          "metadata": {
            "tags": []
          },
          "execution_count": 30
        }
      ]
    },
    {
      "cell_type": "markdown",
      "metadata": {
        "id": "wxkppN1R1k8c"
      },
      "source": [
        "**Plotting to check our data**\r\n",
        "\r\n",
        "The initial data looks like:"
      ]
    },
    {
      "cell_type": "code",
      "metadata": {
        "colab": {
          "base_uri": "https://localhost:8080/",
          "height": 248
        },
        "id": "aZEbA4kd1lVx",
        "outputId": "4732ef09-6b58-4166-cd54-0c4236050993"
      },
      "source": [
        "import matplotlib.pyplot as plt\r\n",
        "for i in range(int(0.01*np.shape(conv_training_data_2)[0]+1)):\r\n",
        "  ax = plt.subplot(10, 8, i+1)\r\n",
        "  ax.axis('off')\r\n",
        "  plt.imshow(train_data_2_2[i])\r\n"
      ],
      "execution_count": 34,
      "outputs": [
        {
          "output_type": "display_data",
          "data": {
            "image/png": "[encoded data removed]",
            "text/plain": [
              "<Figure size 432x288 with 77 Axes>"
            ]
          },
          "metadata": {
            "tags": [],
            "needs_background": "light"
          }
        }
      ]
    },
    {
      "cell_type": "markdown",
      "metadata": {
        "id": "a-9kPq91sNMj"
      },
      "source": [
        "Data at the end of the list looks like:\r\n",
        "Clearly the data has been evenly randomized"
      ]
    },
    {
      "cell_type": "code",
      "metadata": {
        "colab": {
          "base_uri": "https://localhost:8080/",
          "height": 248
        },
        "id": "OcTjUAAN8gJu",
        "outputId": "43e57b97-cc67-4502-ea77-ecbfeffe62f1"
      },
      "source": [
        "for i in range(int(0.99*np.shape(conv_training_data_2)[0]),np.shape(conv_training_data_2)[0]):\r\n",
        "  ax = plt.subplot(8, 10, i-int(0.99*np.shape(conv_training_data_2)[0])+1)\r\n",
        "  ax.axis('off')\r\n",
        "  plt.imshow(train_data_2_2[i])"
      ],
      "execution_count": 37,
      "outputs": [
        {
          "output_type": "display_data",
          "data": {
            "image/png": "[encoded data removed]",
            "text/plain": [
              "<Figure size 432x288 with 77 Axes>"
            ]
          },
          "metadata": {
            "tags": [],
            "needs_background": "light"
          }
        }
      ]
    },
    {
      "cell_type": "markdown",
      "metadata": {
        "id": "jsip7WCIsTyL"
      },
      "source": [
        "**Defining Function plot_training_history_2 which helps in evaluating our model**"
      ]
    },
    {
      "cell_type": "code",
      "metadata": {
        "id": "O-wn82xT27up"
      },
      "source": [
        "def plot_training_history_2(history, model, eval_images=False):\r\n",
        "  figure = plt.figure()\r\n",
        "  plt.subplot(1, 2, 1)\r\n",
        "  plt.plot(history.history['accuracy'])\r\n",
        "  plt.plot(history.history['val_accuracy'])\r\n",
        "  plt.title('model accuracy')\r\n",
        "  plt.ylabel('accuracy')\r\n",
        "  plt.xlabel('epoch')\r\n",
        "  plt.legend(['training', 'validation'], loc='best')\r\n",
        "  plt.tight_layout()\r\n",
        "  plt.subplot(1, 2, 2)\r\n",
        "  plt.plot(history.history['loss'])\r\n",
        "  plt.plot(history.history['val_loss'])\r\n",
        "  plt.title('model loss')\r\n",
        "  plt.ylabel('loss')\r\n",
        "  plt.xlabel('epoch')\r\n",
        "  plt.legend(['training', 'validation'], loc='best')\r\n",
        "  plt.tight_layout()\r\n",
        "  figure.tight_layout()\r\n",
        "  plt.show()\r\n",
        "  if eval_images:\r\n",
        "    loss, accuracy = model.evaluate(conv_test_data_2, test_labels_2_2, verbose=False)\r\n",
        "  else:\r\n",
        "    loss, accuracy = model.evaluate(test_data_2_2, test_labels_2_2, verbose=False)\r\n",
        "\r\n",
        "  print(f'Test loss: {loss:.3}')\r\n",
        "  print(f'Test accuracy: {accuracy:.3}')"
      ],
      "execution_count": 38,
      "outputs": []
    },
    {
      "cell_type": "markdown",
      "metadata": {
        "id": "vilv336A2_j2"
      },
      "source": [
        "**Bulinding our CNN model,compiling it and fitting the model with the data**"
      ]
    },
    {
      "cell_type": "code",
      "metadata": {
        "id": "0sAKY9GZ2-ZW"
      },
      "source": [
        "model2 = Sequential()\r\n",
        "model2.add(Conv2D(128, kernel_size=(5, 5), strides=(2,2), activation='relu', padding='same'))\r\n",
        "model2.add(MaxPooling2D(pool_size=(2, 2)))\r\n",
        "model2.add(BatchNormalization())\r\n",
        "model2.add(Conv2D(256, kernel_size=(3, 3), activation='relu', padding='same',))\r\n",
        "model2.add(MaxPooling2D(pool_size=(2, 2)))\r\n",
        "model2.add(Flatten())\r\n",
        "model2.add(Dense(256,activation='relu'))\r\n",
        "model2.add(Dropout(rate=0.2))\r\n",
        "model2.add(Dense(128,activation='relu'))\r\n",
        "model2.add(Dense(3, activation='linear'))\r\n",
        "model2.compile(optimizer='adam', loss='mean_squared_error', metrics=['accuracy'])"
      ],
      "execution_count": 43,
      "outputs": []
    },
    {
      "cell_type": "markdown",
      "metadata": {
        "id": "P_M8gxPHsjCV"
      },
      "source": [
        "**Plotting using the plot history function to check for the accuracy of our model**"
      ]
    },
    {
      "cell_type": "code",
      "metadata": {
        "colab": {
          "base_uri": "https://localhost:8080/",
          "height": 1000
        },
        "id": "ye7QfgsX3B6S",
        "outputId": "78bf535a-7e4f-4222-c6f8-6d7bbed1d049"
      },
      "source": [
        "history_2 = model2.fit(conv_training_data_2, train_labels_2_2, batch_size=32, epochs=24, verbose=True, validation_split=0.2)\r\n",
        "model2.summary()\r\n",
        "plot_training_history_2(history_2, model2, eval_images=True)"
      ],
      "execution_count": 44,
      "outputs": [
        {
          "output_type": "stream",
          "text": [
            "Epoch 1/24\n",
            "192/192 [==============================] - 75s 391ms/step - loss: 1.5029 - accuracy: 0.4438 - val_loss: 0.0567 - val_accuracy: 0.6213\n",
            "Epoch 2/24\n",
            "192/192 [==============================] - 74s 388ms/step - loss: 0.0038 - accuracy: 0.7175 - val_loss: 0.0019 - val_accuracy: 0.9222\n",
            "Epoch 3/24\n",
            "192/192 [==============================] - 74s 386ms/step - loss: 0.0019 - accuracy: 0.8911 - val_loss: 0.0019 - val_accuracy: 0.9738\n",
            "Epoch 4/24\n",
            "192/192 [==============================] - 74s 385ms/step - loss: 0.0014 - accuracy: 0.9159 - val_loss: 8.9303e-04 - val_accuracy: 0.9457\n",
            "Epoch 5/24\n",
            "192/192 [==============================] - 74s 387ms/step - loss: 0.0011 - accuracy: 0.9324 - val_loss: 5.8906e-04 - val_accuracy: 0.9536\n",
            "Epoch 6/24\n",
            "192/192 [==============================] - 75s 390ms/step - loss: 9.2607e-04 - accuracy: 0.9398 - val_loss: 5.8923e-04 - val_accuracy: 0.9307\n",
            "Epoch 7/24\n",
            "192/192 [==============================] - 74s 387ms/step - loss: 7.5718e-04 - accuracy: 0.9542 - val_loss: 5.1278e-04 - val_accuracy: 0.9856\n",
            "Epoch 8/24\n",
            "192/192 [==============================] - 75s 389ms/step - loss: 7.5570e-04 - accuracy: 0.9653 - val_loss: 3.3358e-04 - val_accuracy: 0.9895\n",
            "Epoch 9/24\n",
            "192/192 [==============================] - 75s 392ms/step - loss: 6.4593e-04 - accuracy: 0.9681 - val_loss: 4.0895e-04 - val_accuracy: 0.9941\n",
            "Epoch 10/24\n",
            "192/192 [==============================] - 77s 404ms/step - loss: 5.6276e-04 - accuracy: 0.9751 - val_loss: 4.7863e-04 - val_accuracy: 0.9974\n",
            "Epoch 11/24\n",
            "192/192 [==============================] - 75s 391ms/step - loss: 5.2005e-04 - accuracy: 0.9763 - val_loss: 4.0557e-04 - val_accuracy: 0.9869\n",
            "Epoch 12/24\n",
            "192/192 [==============================] - 74s 386ms/step - loss: 6.1441e-04 - accuracy: 0.9702 - val_loss: 3.4215e-04 - val_accuracy: 0.9915\n",
            "Epoch 13/24\n",
            "192/192 [==============================] - 74s 387ms/step - loss: 4.8110e-04 - accuracy: 0.9676 - val_loss: 3.9042e-04 - val_accuracy: 0.9889\n",
            "Epoch 14/24\n",
            "192/192 [==============================] - 75s 389ms/step - loss: 4.4911e-04 - accuracy: 0.9738 - val_loss: 3.7382e-04 - val_accuracy: 0.9928\n",
            "Epoch 15/24\n",
            "192/192 [==============================] - 75s 391ms/step - loss: 4.0538e-04 - accuracy: 0.9743 - val_loss: 3.3748e-04 - val_accuracy: 0.9836\n",
            "Epoch 16/24\n",
            "192/192 [==============================] - 75s 389ms/step - loss: 3.7860e-04 - accuracy: 0.9796 - val_loss: 2.9439e-04 - val_accuracy: 0.9987\n",
            "Epoch 17/24\n",
            "192/192 [==============================] - 74s 386ms/step - loss: 3.6913e-04 - accuracy: 0.9787 - val_loss: 3.6919e-04 - val_accuracy: 0.9908\n",
            "Epoch 18/24\n",
            "192/192 [==============================] - 74s 386ms/step - loss: 3.6331e-04 - accuracy: 0.9799 - val_loss: 3.4225e-04 - val_accuracy: 0.9941\n",
            "Epoch 19/24\n",
            "192/192 [==============================] - 74s 388ms/step - loss: 6.6550e-04 - accuracy: 0.9673 - val_loss: 3.0461e-04 - val_accuracy: 0.9863\n",
            "Epoch 20/24\n",
            "192/192 [==============================] - 74s 386ms/step - loss: 4.2246e-04 - accuracy: 0.9887 - val_loss: 3.6094e-04 - val_accuracy: 0.9876\n",
            "Epoch 21/24\n",
            "192/192 [==============================] - 74s 384ms/step - loss: 4.4047e-04 - accuracy: 0.9882 - val_loss: 3.7368e-04 - val_accuracy: 0.9980\n",
            "Epoch 22/24\n",
            "192/192 [==============================] - 74s 383ms/step - loss: 3.5011e-04 - accuracy: 0.9936 - val_loss: 3.7173e-04 - val_accuracy: 0.9987\n",
            "Epoch 23/24\n",
            "192/192 [==============================] - 74s 385ms/step - loss: 6.6311e-04 - accuracy: 0.9817 - val_loss: 3.0398e-04 - val_accuracy: 0.9967\n",
            "Epoch 24/24\n",
            "192/192 [==============================] - 74s 385ms/step - loss: 5.7363e-04 - accuracy: 0.9869 - val_loss: 4.2079e-04 - val_accuracy: 0.9954\n",
            "Model: \"sequential_3\"\n",
            "_________________________________________________________________\n",
            "Layer (type)                 Output Shape              Param #   \n",
            "=================================================================\n",
            "conv2d_6 (Conv2D)            (None, 32, 32, 128)       3328      \n",
            "_________________________________________________________________\n",
            "max_pooling2d_6 (MaxPooling2 (None, 16, 16, 128)       0         \n",
            "_________________________________________________________________\n",
            "batch_normalization_3 (Batch (None, 16, 16, 128)       512       \n",
            "_________________________________________________________________\n",
            "conv2d_7 (Conv2D)            (None, 16, 16, 256)       295168    \n",
            "_________________________________________________________________\n",
            "max_pooling2d_7 (MaxPooling2 (None, 8, 8, 256)         0         \n",
            "_________________________________________________________________\n",
            "flatten_3 (Flatten)          (None, 16384)             0         \n",
            "_________________________________________________________________\n",
            "dense_9 (Dense)              (None, 256)               4194560   \n",
            "_________________________________________________________________\n",
            "dropout_3 (Dropout)          (None, 256)               0         \n",
            "_________________________________________________________________\n",
            "dense_10 (Dense)             (None, 128)               32896     \n",
            "_________________________________________________________________\n",
            "dense_11 (Dense)             (None, 3)                 387       \n",
            "=================================================================\n",
            "Total params: 4,526,851\n",
            "Trainable params: 4,526,595\n",
            "Non-trainable params: 256\n",
            "_________________________________________________________________\n"
          ],
          "name": "stdout"
        },
        {
          "output_type": "display_data",
          "data": {
            "image/png": "[encoded data removed]",
            "text/plain": [
              "<Figure size 432x288 with 2 Axes>"
            ]
          },
          "metadata": {
            "tags": [],
            "needs_background": "light"
          }
        },
        {
          "output_type": "stream",
          "text": [
            "Test loss: 0.000407\n",
            "Test accuracy: 0.995\n"
          ],
          "name": "stdout"
        }
      ]
    },
    {
      "cell_type": "markdown",
      "metadata": {
        "id": "cgxIVrbRsoGj"
      },
      "source": [
        "**Predicting the Energies for the test data using our Model**"
      ]
    },
    {
      "cell_type": "code",
      "metadata": {
        "colab": {
          "base_uri": "https://localhost:8080/",
          "height": 549
        },
        "id": "gkfEUbY03FS9",
        "outputId": "61e95435-46af-4e36-9abc-61f8a2d6a55f"
      },
      "source": [
        "predictions_2 = model2.predict(conv_test_data_2)\r\n",
        "prediction_2_1 = np.array(predictions_2).flatten()\r\n",
        "fig, ax = plt.subplots(1,1, figsize=(8,8))\r\n",
        "counts, xedges, yedges = np.histogram2d(test_labels_2_2.flatten(), prediction_2_1.flatten(),bins=50)\r\n",
        "ax.pcolormesh(xedges, yedges, counts.T,cmap='YlGnBu')\r\n",
        "ax.set_xlabel(\"True energy\")\r\n",
        "ax.set_ylabel(\"Predicted energy\")\r\n",
        "ax.grid(alpha=0.5)\r\n",
        "ax.set_title(\"Median absolute error: {0} mHa\".format(np.median(np.abs(prediction_2_1.flatten()-test_labels_2_2.flatten())*1000.)))\r\n",
        "fig.show()"
      ],
      "execution_count": 51,
      "outputs": [
        {
          "output_type": "stream",
          "text": [
            "/usr/local/lib/python3.6/dist-packages/matplotlib/axes/_axes.py:6115: ComplexWarning: Casting complex values to real discards the imaginary part\n",
            "  coords = np.column_stack((X, Y)).astype(float, copy=False)\n"
          ],
          "name": "stderr"
        },
        {
          "output_type": "display_data",
          "data": {
            "image/png": "[encoded data removed]",
            "text/plain": [
              "<Figure size 576x576 with 1 Axes>"
            ]
          },
          "metadata": {
            "tags": [],
            "needs_background": "light"
          }
        }
      ]
    }
  ]
}